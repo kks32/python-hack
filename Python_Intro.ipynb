{
 "cells": [
  {
   "cell_type": "code",
   "execution_count": 1,
   "metadata": {},
   "outputs": [
    {
     "name": "stdout",
     "output_type": "stream",
     "text": [
      "Hello World!!!\n"
     ]
    }
   ],
   "source": [
    "print(\"Hello World!!!\")"
   ]
  },
  {
   "cell_type": "code",
   "execution_count": 2,
   "metadata": {},
   "outputs": [
    {
     "name": "stdout",
     "output_type": "stream",
     "text": [
      "5\n"
     ]
    }
   ],
   "source": [
    "print(5)"
   ]
  },
  {
   "cell_type": "code",
   "execution_count": 3,
   "metadata": {},
   "outputs": [
    {
     "name": "stdout",
     "output_type": "stream",
     "text": [
      "42\n"
     ]
    }
   ],
   "source": [
    "print(42)"
   ]
  },
  {
   "cell_type": "code",
   "execution_count": 10,
   "metadata": {},
   "outputs": [
    {
     "name": "stdout",
     "output_type": "stream",
     "text": [
      "2\n"
     ]
    }
   ],
   "source": [
    "print(1+1)"
   ]
  },
  {
   "cell_type": "code",
   "execution_count": 11,
   "metadata": {},
   "outputs": [],
   "source": [
    "this_variable = \"Hello\""
   ]
  },
  {
   "cell_type": "code",
   "execution_count": 12,
   "metadata": {},
   "outputs": [],
   "source": [
    "my_variable = 42\n",
    "my_othervariable = 62.5"
   ]
  },
  {
   "cell_type": "code",
   "execution_count": 13,
   "metadata": {},
   "outputs": [],
   "source": [
    "x = 1/5"
   ]
  },
  {
   "cell_type": "code",
   "execution_count": 14,
   "metadata": {},
   "outputs": [],
   "source": [
    "y = 2*x"
   ]
  },
  {
   "cell_type": "code",
   "execution_count": 15,
   "metadata": {},
   "outputs": [
    {
     "name": "stdout",
     "output_type": "stream",
     "text": [
      "<class 'float'>\n"
     ]
    }
   ],
   "source": [
    "print(type(x))"
   ]
  },
  {
   "cell_type": "code",
   "execution_count": 16,
   "metadata": {},
   "outputs": [
    {
     "name": "stdout",
     "output_type": "stream",
     "text": [
      "<class 'str'>\n"
     ]
    }
   ],
   "source": [
    "print(type(this_variable))"
   ]
  },
  {
   "cell_type": "code",
   "execution_count": 17,
   "metadata": {},
   "outputs": [
    {
     "name": "stdout",
     "output_type": "stream",
     "text": [
      "0.2\n"
     ]
    }
   ],
   "source": [
    "print (x)"
   ]
  },
  {
   "cell_type": "code",
   "execution_count": 18,
   "metadata": {},
   "outputs": [
    {
     "name": "stdout",
     "output_type": "stream",
     "text": [
      "0\n"
     ]
    }
   ],
   "source": [
    "x_1 = int(x)\n",
    "print (x_1)"
   ]
  },
  {
   "cell_type": "code",
   "execution_count": 19,
   "metadata": {},
   "outputs": [
    {
     "name": "stdout",
     "output_type": "stream",
     "text": [
      "<class 'int'>\n"
     ]
    }
   ],
   "source": [
    "print (type(x_1))"
   ]
  },
  {
   "cell_type": "code",
   "execution_count": 20,
   "metadata": {},
   "outputs": [
    {
     "name": "stdout",
     "output_type": "stream",
     "text": [
      "2.5\n"
     ]
    }
   ],
   "source": [
    "print(5/2)"
   ]
  },
  {
   "cell_type": "code",
   "execution_count": 21,
   "metadata": {},
   "outputs": [
    {
     "name": "stdout",
     "output_type": "stream",
     "text": [
      "helloworld\n"
     ]
    }
   ],
   "source": [
    "print (\"hello\" + \"world\")"
   ]
  },
  {
   "cell_type": "code",
   "execution_count": 22,
   "metadata": {},
   "outputs": [
    {
     "ename": "TypeError",
     "evalue": "must be str, not int",
     "output_type": "error",
     "traceback": [
      "\u001b[0;31m---------------------------------------------------------------------------\u001b[0m",
      "\u001b[0;31mTypeError\u001b[0m                                 Traceback (most recent call last)",
      "\u001b[0;32m<ipython-input-22-221f688c3cee>\u001b[0m in \u001b[0;36m<module>\u001b[0;34m\u001b[0m\n\u001b[0;32m----> 1\u001b[0;31m \u001b[0mprint\u001b[0m \u001b[0;34m(\u001b[0m\u001b[0;34m\"some\"\u001b[0m \u001b[0;34m+\u001b[0m \u001b[0;36m1\u001b[0m\u001b[0;34m)\u001b[0m\u001b[0;34m\u001b[0m\u001b[0;34m\u001b[0m\u001b[0m\n\u001b[0m",
      "\u001b[0;31mTypeError\u001b[0m: must be str, not int"
     ]
    }
   ],
   "source": [
    "print (\"some\" + 1)"
   ]
  },
  {
   "cell_type": "code",
   "execution_count": 23,
   "metadata": {},
   "outputs": [
    {
     "name": "stdout",
     "output_type": "stream",
     "text": [
      "numbernumbernumbernumbernumber\n"
     ]
    }
   ],
   "source": [
    "print (\"number\" * 5)"
   ]
  },
  {
   "cell_type": "code",
   "execution_count": 24,
   "metadata": {},
   "outputs": [
    {
     "name": "stdout",
     "output_type": "stream",
     "text": [
      "13\n"
     ]
    }
   ],
   "source": [
    "print (3+5*2)"
   ]
  },
  {
   "cell_type": "code",
   "execution_count": 31,
   "metadata": {},
   "outputs": [
    {
     "name": "stdout",
     "output_type": "stream",
     "text": [
      "Enter a number:42\n"
     ]
    }
   ],
   "source": [
    "numIn = input(\"Enter a number:\")"
   ]
  },
  {
   "cell_type": "code",
   "execution_count": 37,
   "metadata": {},
   "outputs": [
    {
     "name": "stdout",
     "output_type": "stream",
     "text": [
      "42\n"
     ]
    }
   ],
   "source": [
    "print (numIn)\n",
    "myNum = int(numIn)"
   ]
  },
  {
   "cell_type": "code",
   "execution_count": 38,
   "metadata": {},
   "outputs": [
    {
     "name": "stdout",
     "output_type": "stream",
     "text": [
      "The answer to life the universe and everything is 42\n"
     ]
    }
   ],
   "source": [
    "print (\"The answer to life the universe and everything is %d\" % myNum)"
   ]
  },
  {
   "cell_type": "code",
   "execution_count": 36,
   "metadata": {},
   "outputs": [
    {
     "name": "stdout",
     "output_type": "stream",
     "text": [
      "<class 'str'>\n"
     ]
    }
   ],
   "source": [
    "print (type(numIn))"
   ]
  },
  {
   "cell_type": "code",
   "execution_count": 55,
   "metadata": {},
   "outputs": [],
   "source": [
    "a = 2\n",
    "b = 5"
   ]
  },
  {
   "cell_type": "code",
   "execution_count": 49,
   "metadata": {},
   "outputs": [
    {
     "name": "stdout",
     "output_type": "stream",
     "text": [
      "False\n"
     ]
    }
   ],
   "source": [
    "print (a>b)"
   ]
  },
  {
   "cell_type": "code",
   "execution_count": 50,
   "metadata": {},
   "outputs": [
    {
     "name": "stdout",
     "output_type": "stream",
     "text": [
      "False\n"
     ]
    }
   ],
   "source": [
    "print (a<b)"
   ]
  },
  {
   "cell_type": "code",
   "execution_count": 51,
   "metadata": {},
   "outputs": [
    {
     "name": "stdout",
     "output_type": "stream",
     "text": [
      "False\n"
     ]
    }
   ],
   "source": [
    "print (a>b or a<b)"
   ]
  },
  {
   "cell_type": "code",
   "execution_count": 52,
   "metadata": {},
   "outputs": [
    {
     "name": "stdout",
     "output_type": "stream",
     "text": [
      "False\n"
     ]
    }
   ],
   "source": [
    "print (a>b and a<b)"
   ]
  },
  {
   "cell_type": "code",
   "execution_count": 53,
   "metadata": {},
   "outputs": [
    {
     "name": "stdout",
     "output_type": "stream",
     "text": [
      "True\n"
     ]
    }
   ],
   "source": [
    "print (a==b)"
   ]
  },
  {
   "cell_type": "code",
   "execution_count": 54,
   "metadata": {},
   "outputs": [],
   "source": [
    "a = b"
   ]
  },
  {
   "cell_type": "code",
   "execution_count": 59,
   "metadata": {},
   "outputs": [
    {
     "name": "stdout",
     "output_type": "stream",
     "text": [
      "a is less than b\n",
      "there was my conditional statement!\n"
     ]
    }
   ],
   "source": [
    "if (a>b):\n",
    "    print (\"a is greater than b\")\n",
    "elif (a < b):\n",
    "    print (\"a is less than b\")\n",
    "else:\n",
    "    print (\"a is equal to b\")\n",
    "\n",
    "print (\"there was my conditional statement!\")"
   ]
  },
  {
   "cell_type": "code",
   "execution_count": 60,
   "metadata": {},
   "outputs": [
    {
     "name": "stdout",
     "output_type": "stream",
     "text": [
      "2\n"
     ]
    }
   ],
   "source": [
    "print (a)"
   ]
  },
  {
   "cell_type": "code",
   "execution_count": 61,
   "metadata": {},
   "outputs": [
    {
     "name": "stdout",
     "output_type": "stream",
     "text": [
      "0\n"
     ]
    }
   ],
   "source": [
    "print (a%2)"
   ]
  },
  {
   "cell_type": "code",
   "execution_count": 62,
   "metadata": {},
   "outputs": [
    {
     "name": "stdout",
     "output_type": "stream",
     "text": [
      "5\n"
     ]
    }
   ],
   "source": [
    "print (b)"
   ]
  },
  {
   "cell_type": "code",
   "execution_count": 63,
   "metadata": {},
   "outputs": [
    {
     "name": "stdout",
     "output_type": "stream",
     "text": [
      "1\n"
     ]
    }
   ],
   "source": [
    "print (b%2)"
   ]
  },
  {
   "cell_type": "code",
   "execution_count": 65,
   "metadata": {},
   "outputs": [
    {
     "name": "stdout",
     "output_type": "stream",
     "text": [
      "a is odd\n"
     ]
    }
   ],
   "source": [
    "a = 101\n",
    "if (a%2 == 0):\n",
    "    print (\"a is even\")\n",
    "else:\n",
    "    print (\"a is odd\")"
   ]
  },
  {
   "cell_type": "code",
   "execution_count": 72,
   "metadata": {},
   "outputs": [
    {
     "name": "stdout",
     "output_type": "stream",
     "text": [
      "the value of i and j is 0, 0\n",
      "the value of i and j is 0, 1\n",
      "the value of i and j is 0, 2\n",
      "the value of i and j is 0, 3\n",
      "the value of i and j is 0, 4\n",
      "the value of i and j is 1, 0\n",
      "the value of i and j is 1, 1\n",
      "the value of i and j is 1, 2\n",
      "the value of i and j is 1, 3\n",
      "the value of i and j is 1, 4\n",
      "the value of i and j is 2, 0\n",
      "the value of i and j is 2, 1\n",
      "the value of i and j is 2, 2\n",
      "the value of i and j is 2, 3\n",
      "the value of i and j is 2, 4\n"
     ]
    }
   ],
   "source": [
    "for i in range(0,3):\n",
    "    for j in range(0,5):\n",
    "        print (\"the value of i and j is %d, %d\" %(i,j))"
   ]
  },
  {
   "cell_type": "code",
   "execution_count": 73,
   "metadata": {},
   "outputs": [
    {
     "name": "stdout",
     "output_type": "stream",
     "text": [
      "4 is *not* a prime number\n",
      "6 is *not* a prime number\n",
      "6 is *not* a prime number\n",
      "8 is *not* a prime number\n",
      "8 is *not* a prime number\n",
      "9 is *not* a prime number\n",
      "10 is *not* a prime number\n",
      "10 is *not* a prime number\n",
      "12 is *not* a prime number\n",
      "12 is *not* a prime number\n",
      "12 is *not* a prime number\n",
      "12 is *not* a prime number\n",
      "14 is *not* a prime number\n",
      "14 is *not* a prime number\n",
      "15 is *not* a prime number\n",
      "15 is *not* a prime number\n",
      "16 is *not* a prime number\n",
      "16 is *not* a prime number\n",
      "16 is *not* a prime number\n",
      "18 is *not* a prime number\n",
      "18 is *not* a prime number\n",
      "18 is *not* a prime number\n",
      "18 is *not* a prime number\n",
      "20 is *not* a prime number\n",
      "20 is *not* a prime number\n",
      "20 is *not* a prime number\n",
      "20 is *not* a prime number\n",
      "21 is *not* a prime number\n",
      "21 is *not* a prime number\n",
      "22 is *not* a prime number\n",
      "22 is *not* a prime number\n",
      "24 is *not* a prime number\n",
      "24 is *not* a prime number\n",
      "24 is *not* a prime number\n",
      "24 is *not* a prime number\n",
      "24 is *not* a prime number\n",
      "24 is *not* a prime number\n",
      "25 is *not* a prime number\n",
      "26 is *not* a prime number\n",
      "26 is *not* a prime number\n",
      "27 is *not* a prime number\n",
      "27 is *not* a prime number\n",
      "28 is *not* a prime number\n",
      "28 is *not* a prime number\n",
      "28 is *not* a prime number\n",
      "28 is *not* a prime number\n",
      "30 is *not* a prime number\n",
      "30 is *not* a prime number\n",
      "30 is *not* a prime number\n",
      "30 is *not* a prime number\n",
      "30 is *not* a prime number\n",
      "30 is *not* a prime number\n",
      "32 is *not* a prime number\n",
      "32 is *not* a prime number\n",
      "32 is *not* a prime number\n",
      "32 is *not* a prime number\n",
      "33 is *not* a prime number\n",
      "33 is *not* a prime number\n",
      "34 is *not* a prime number\n",
      "34 is *not* a prime number\n",
      "35 is *not* a prime number\n",
      "35 is *not* a prime number\n",
      "36 is *not* a prime number\n",
      "36 is *not* a prime number\n",
      "36 is *not* a prime number\n",
      "36 is *not* a prime number\n",
      "36 is *not* a prime number\n",
      "36 is *not* a prime number\n",
      "36 is *not* a prime number\n",
      "38 is *not* a prime number\n",
      "38 is *not* a prime number\n",
      "39 is *not* a prime number\n",
      "39 is *not* a prime number\n",
      "40 is *not* a prime number\n",
      "40 is *not* a prime number\n",
      "40 is *not* a prime number\n",
      "40 is *not* a prime number\n",
      "40 is *not* a prime number\n",
      "40 is *not* a prime number\n",
      "42 is *not* a prime number\n",
      "42 is *not* a prime number\n",
      "42 is *not* a prime number\n",
      "42 is *not* a prime number\n",
      "42 is *not* a prime number\n",
      "42 is *not* a prime number\n",
      "44 is *not* a prime number\n",
      "44 is *not* a prime number\n",
      "44 is *not* a prime number\n",
      "44 is *not* a prime number\n",
      "45 is *not* a prime number\n",
      "45 is *not* a prime number\n",
      "45 is *not* a prime number\n",
      "45 is *not* a prime number\n",
      "46 is *not* a prime number\n",
      "46 is *not* a prime number\n",
      "48 is *not* a prime number\n",
      "48 is *not* a prime number\n",
      "48 is *not* a prime number\n",
      "48 is *not* a prime number\n",
      "48 is *not* a prime number\n",
      "48 is *not* a prime number\n",
      "48 is *not* a prime number\n",
      "48 is *not* a prime number\n",
      "49 is *not* a prime number\n",
      "50 is *not* a prime number\n",
      "50 is *not* a prime number\n",
      "50 is *not* a prime number\n",
      "50 is *not* a prime number\n",
      "51 is *not* a prime number\n",
      "51 is *not* a prime number\n",
      "52 is *not* a prime number\n",
      "52 is *not* a prime number\n",
      "52 is *not* a prime number\n",
      "52 is *not* a prime number\n",
      "54 is *not* a prime number\n",
      "54 is *not* a prime number\n",
      "54 is *not* a prime number\n",
      "54 is *not* a prime number\n",
      "54 is *not* a prime number\n",
      "54 is *not* a prime number\n",
      "55 is *not* a prime number\n",
      "55 is *not* a prime number\n",
      "56 is *not* a prime number\n",
      "56 is *not* a prime number\n",
      "56 is *not* a prime number\n",
      "56 is *not* a prime number\n",
      "56 is *not* a prime number\n",
      "56 is *not* a prime number\n",
      "57 is *not* a prime number\n",
      "57 is *not* a prime number\n",
      "58 is *not* a prime number\n",
      "58 is *not* a prime number\n",
      "60 is *not* a prime number\n",
      "60 is *not* a prime number\n",
      "60 is *not* a prime number\n",
      "60 is *not* a prime number\n",
      "60 is *not* a prime number\n",
      "60 is *not* a prime number\n",
      "60 is *not* a prime number\n",
      "60 is *not* a prime number\n",
      "60 is *not* a prime number\n",
      "60 is *not* a prime number\n",
      "62 is *not* a prime number\n",
      "62 is *not* a prime number\n",
      "63 is *not* a prime number\n",
      "63 is *not* a prime number\n",
      "63 is *not* a prime number\n",
      "63 is *not* a prime number\n",
      "64 is *not* a prime number\n",
      "64 is *not* a prime number\n",
      "64 is *not* a prime number\n",
      "64 is *not* a prime number\n",
      "64 is *not* a prime number\n",
      "65 is *not* a prime number\n",
      "65 is *not* a prime number\n",
      "66 is *not* a prime number\n",
      "66 is *not* a prime number\n",
      "66 is *not* a prime number\n",
      "66 is *not* a prime number\n",
      "66 is *not* a prime number\n",
      "66 is *not* a prime number\n",
      "68 is *not* a prime number\n",
      "68 is *not* a prime number\n",
      "68 is *not* a prime number\n",
      "68 is *not* a prime number\n",
      "69 is *not* a prime number\n",
      "69 is *not* a prime number\n",
      "70 is *not* a prime number\n",
      "70 is *not* a prime number\n",
      "70 is *not* a prime number\n",
      "70 is *not* a prime number\n",
      "70 is *not* a prime number\n",
      "70 is *not* a prime number\n",
      "72 is *not* a prime number\n",
      "72 is *not* a prime number\n",
      "72 is *not* a prime number\n",
      "72 is *not* a prime number\n",
      "72 is *not* a prime number\n",
      "72 is *not* a prime number\n",
      "72 is *not* a prime number\n",
      "72 is *not* a prime number\n",
      "72 is *not* a prime number\n",
      "72 is *not* a prime number\n",
      "74 is *not* a prime number\n",
      "74 is *not* a prime number\n",
      "75 is *not* a prime number\n",
      "75 is *not* a prime number\n",
      "75 is *not* a prime number\n",
      "75 is *not* a prime number\n",
      "76 is *not* a prime number\n",
      "76 is *not* a prime number\n",
      "76 is *not* a prime number\n",
      "76 is *not* a prime number\n",
      "77 is *not* a prime number\n",
      "77 is *not* a prime number\n",
      "78 is *not* a prime number\n",
      "78 is *not* a prime number\n",
      "78 is *not* a prime number\n",
      "78 is *not* a prime number\n",
      "78 is *not* a prime number\n",
      "78 is *not* a prime number\n",
      "80 is *not* a prime number\n",
      "80 is *not* a prime number\n",
      "80 is *not* a prime number\n",
      "80 is *not* a prime number\n",
      "80 is *not* a prime number\n",
      "80 is *not* a prime number\n",
      "80 is *not* a prime number\n",
      "80 is *not* a prime number\n",
      "81 is *not* a prime number\n",
      "81 is *not* a prime number\n",
      "81 is *not* a prime number\n",
      "82 is *not* a prime number\n",
      "82 is *not* a prime number\n",
      "84 is *not* a prime number\n",
      "84 is *not* a prime number\n",
      "84 is *not* a prime number\n",
      "84 is *not* a prime number\n",
      "84 is *not* a prime number\n",
      "84 is *not* a prime number\n",
      "84 is *not* a prime number\n",
      "84 is *not* a prime number\n",
      "84 is *not* a prime number\n",
      "84 is *not* a prime number\n",
      "85 is *not* a prime number\n",
      "85 is *not* a prime number\n",
      "86 is *not* a prime number\n",
      "86 is *not* a prime number\n",
      "87 is *not* a prime number\n",
      "87 is *not* a prime number\n",
      "88 is *not* a prime number\n",
      "88 is *not* a prime number\n",
      "88 is *not* a prime number\n",
      "88 is *not* a prime number\n",
      "88 is *not* a prime number\n",
      "88 is *not* a prime number\n",
      "90 is *not* a prime number\n",
      "90 is *not* a prime number\n",
      "90 is *not* a prime number\n",
      "90 is *not* a prime number\n",
      "90 is *not* a prime number\n",
      "90 is *not* a prime number\n",
      "90 is *not* a prime number\n",
      "90 is *not* a prime number\n",
      "90 is *not* a prime number\n",
      "90 is *not* a prime number\n",
      "91 is *not* a prime number\n",
      "91 is *not* a prime number\n",
      "92 is *not* a prime number\n",
      "92 is *not* a prime number\n",
      "92 is *not* a prime number\n",
      "92 is *not* a prime number\n",
      "93 is *not* a prime number\n",
      "93 is *not* a prime number\n",
      "94 is *not* a prime number\n",
      "94 is *not* a prime number\n",
      "95 is *not* a prime number\n",
      "95 is *not* a prime number\n",
      "96 is *not* a prime number\n",
      "96 is *not* a prime number\n",
      "96 is *not* a prime number\n",
      "96 is *not* a prime number\n",
      "96 is *not* a prime number\n",
      "96 is *not* a prime number\n",
      "96 is *not* a prime number\n",
      "96 is *not* a prime number\n",
      "96 is *not* a prime number\n",
      "96 is *not* a prime number\n",
      "98 is *not* a prime number\n",
      "98 is *not* a prime number\n",
      "98 is *not* a prime number\n",
      "98 is *not* a prime number\n",
      "99 is *not* a prime number\n",
      "99 is *not* a prime number\n",
      "99 is *not* a prime number\n",
      "99 is *not* a prime number\n",
      "100 is *not* a prime number\n",
      "100 is *not* a prime number\n",
      "100 is *not* a prime number\n",
      "100 is *not* a prime number\n",
      "100 is *not* a prime number\n",
      "100 is *not* a prime number\n",
      "100 is *not* a prime number\n"
     ]
    }
   ],
   "source": [
    "for n in range(3,101):\n",
    "    for q in range(2,101):\n",
    "        if n != q:\n",
    "            if (n%q == 0):\n",
    "                print (\"%d is *not* a prime number\" %n)"
   ]
  },
  {
   "cell_type": "code",
   "execution_count": 77,
   "metadata": {},
   "outputs": [
    {
     "name": "stdout",
     "output_type": "stream",
     "text": [
      "0\n",
      "1\n",
      "2\n",
      "3\n",
      "4\n",
      "5\n",
      "6\n",
      "7\n",
      "8\n",
      "9\n",
      "all done!\n"
     ]
    }
   ],
   "source": [
    "i = 0\n",
    "while (i<10):\n",
    "    print(i)\n",
    "    i = i + 1\n",
    "\n",
    "print (\"all done!\")"
   ]
  },
  {
   "cell_type": "code",
   "execution_count": 83,
   "metadata": {},
   "outputs": [],
   "source": [
    "mylist = [\"charlie\", True, 3.241598, \"julia\", 12, 15, \"scott\", \"krishna\", 1, 5, 7, 8, 10.5, 1.8, 2.0, True]"
   ]
  },
  {
   "cell_type": "code",
   "execution_count": 79,
   "metadata": {},
   "outputs": [],
   "source": [
    "mylist2 = [0, 1, 5, 7, 2]"
   ]
  },
  {
   "cell_type": "code",
   "execution_count": 86,
   "metadata": {},
   "outputs": [
    {
     "name": "stdout",
     "output_type": "stream",
     "text": [
      "charlie\n",
      "<class 'str'>\n",
      "True\n",
      "<class 'bool'>\n",
      "3.241598\n",
      "<class 'float'>\n",
      "julia\n",
      "<class 'str'>\n",
      "12\n",
      "<class 'int'>\n",
      "15\n",
      "<class 'int'>\n",
      "scott\n",
      "<class 'str'>\n",
      "krishna\n",
      "<class 'str'>\n",
      "1\n",
      "<class 'int'>\n",
      "5\n",
      "<class 'int'>\n",
      "7\n",
      "<class 'int'>\n",
      "8\n",
      "<class 'int'>\n",
      "10.5\n",
      "<class 'float'>\n",
      "1.8\n",
      "<class 'float'>\n",
      "2.0\n",
      "<class 'float'>\n",
      "True\n",
      "<class 'bool'>\n"
     ]
    }
   ],
   "source": [
    "for w in mylist:\n",
    "    print (w)\n",
    "    print (type(w))"
   ]
  },
  {
   "cell_type": "code",
   "execution_count": 85,
   "metadata": {},
   "outputs": [
    {
     "name": "stdout",
     "output_type": "stream",
     "text": [
      "0\n",
      "<class 'int'>\n",
      "1\n",
      "<class 'int'>\n",
      "5\n",
      "<class 'int'>\n",
      "7\n",
      "<class 'int'>\n",
      "2\n",
      "<class 'int'>\n"
     ]
    }
   ],
   "source": [
    "for n in mylist2:\n",
    "    print (n)\n",
    "    print (type(n))"
   ]
  },
  {
   "cell_type": "code",
   "execution_count": 87,
   "metadata": {},
   "outputs": [
    {
     "name": "stdout",
     "output_type": "stream",
     "text": [
      "['charlie', True, 3.241598]\n"
     ]
    }
   ],
   "source": [
    "print(mylist[0:3])"
   ]
  },
  {
   "cell_type": "code",
   "execution_count": 90,
   "metadata": {},
   "outputs": [
    {
     "data": {
      "text/plain": [
       "True"
      ]
     },
     "execution_count": 90,
     "metadata": {},
     "output_type": "execute_result"
    }
   ],
   "source": [
    "42 in mylist"
   ]
  },
  {
   "cell_type": "code",
   "execution_count": 89,
   "metadata": {},
   "outputs": [],
   "source": [
    "mylist.append(42)"
   ]
  },
  {
   "cell_type": "code",
   "execution_count": 91,
   "metadata": {},
   "outputs": [
    {
     "name": "stdout",
     "output_type": "stream",
     "text": [
      "['charlie', True, 3.241598, 'julia', 12, 15, 'scott', 'krishna', 1, 5, 7, 8, 10.5, 1.8, 2.0, True, 42]\n"
     ]
    }
   ],
   "source": [
    "print(mylist)"
   ]
  },
  {
   "cell_type": "code",
   "execution_count": 92,
   "metadata": {},
   "outputs": [
    {
     "name": "stdout",
     "output_type": "stream",
     "text": [
      "16\n"
     ]
    }
   ],
   "source": [
    "print(mylist.index(42))"
   ]
  },
  {
   "cell_type": "code",
   "execution_count": 93,
   "metadata": {},
   "outputs": [],
   "source": [
    "def f(x):\n",
    "    val = x**2\n",
    "    return val"
   ]
  },
  {
   "cell_type": "code",
   "execution_count": 96,
   "metadata": {},
   "outputs": [],
   "source": [
    "g = f(6)"
   ]
  },
  {
   "cell_type": "code",
   "execution_count": 97,
   "metadata": {},
   "outputs": [
    {
     "name": "stdout",
     "output_type": "stream",
     "text": [
      "36\n"
     ]
    }
   ],
   "source": [
    "print (g)"
   ]
  },
  {
   "cell_type": "code",
   "execution_count": 98,
   "metadata": {},
   "outputs": [],
   "source": [
    "x = lambda a: a*10"
   ]
  },
  {
   "cell_type": "code",
   "execution_count": 99,
   "metadata": {},
   "outputs": [
    {
     "name": "stdout",
     "output_type": "stream",
     "text": [
      "100\n"
     ]
    }
   ],
   "source": [
    "print (x(10))"
   ]
  },
  {
   "cell_type": "code",
   "execution_count": 100,
   "metadata": {},
   "outputs": [],
   "source": [
    "def myfunc(x):\n",
    "    return lambda a: a*x"
   ]
  },
  {
   "cell_type": "code",
   "execution_count": 101,
   "metadata": {},
   "outputs": [],
   "source": [
    "y = myfunc(10)"
   ]
  },
  {
   "cell_type": "code",
   "execution_count": 104,
   "metadata": {},
   "outputs": [
    {
     "name": "stdout",
     "output_type": "stream",
     "text": [
      "50\n"
     ]
    }
   ],
   "source": [
    "print (y(5))"
   ]
  },
  {
   "cell_type": "code",
   "execution_count": 105,
   "metadata": {},
   "outputs": [
    {
     "name": "stdout",
     "output_type": "stream",
     "text": [
      "<function myfunc.<locals>.<lambda> at 0x7f6d7c12ed90> 20\n"
     ]
    }
   ],
   "source": [
    "z = myfunc(2)\n",
    "print (z, z(10))"
   ]
  },
  {
   "cell_type": "code",
   "execution_count": null,
   "metadata": {},
   "outputs": [],
   "source": []
  }
 ],
 "metadata": {
  "kernelspec": {
   "display_name": "Python 3",
   "language": "python",
   "name": "python3"
  },
  "language_info": {
   "codemirror_mode": {
    "name": "ipython",
    "version": 3
   },
   "file_extension": ".py",
   "mimetype": "text/x-python",
   "name": "python",
   "nbconvert_exporter": "python",
   "pygments_lexer": "ipython3",
   "version": "3.6.8"
  }
 },
 "nbformat": 4,
 "nbformat_minor": 2
}
